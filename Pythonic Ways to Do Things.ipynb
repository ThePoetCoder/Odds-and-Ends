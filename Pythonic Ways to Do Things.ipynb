{
 "cells": [
  {
   "cell_type": "code",
   "execution_count": 1,
   "metadata": {},
   "outputs": [
    {
     "name": "stdout",
     "output_type": "stream",
     "text": [
      "54321\n"
     ]
    }
   ],
   "source": [
    "###  Reverse String In 1 Line ###\n",
    "print('12345'[::-1])"
   ]
  },
  {
   "cell_type": "code",
   "execution_count": 7,
   "metadata": {},
   "outputs": [
    {
     "name": "stdout",
     "output_type": "stream",
     "text": [
      "(1, 2, 3)\n",
      "['a', '', 'b', '', 'c', '', 'd']\n",
      "['a', 1, 'b', 2, 'c', 3, 'd']\n"
     ]
    }
   ],
   "source": [
    "###  Quick Assignment To List ###\n",
    "my_tuple = (1,2,3)\n",
    "print(my_tuple)\n",
    "my_list = ['a','','b','','c','','d']\n",
    "print(my_list)\n",
    "my_list[1::2] = my_tuple\n",
    "print(my_list)"
   ]
  },
  {
   "cell_type": "code",
   "execution_count": null,
   "metadata": {},
   "outputs": [],
   "source": [
    "###  Function, Property, Closure ###\n",
    "# Today I'm going to show 3 different ways to get the same answer out of a class. \n",
    "# Which way you would like to use for your particular situation depends a lot on the existing code \n",
    "# you are trying to work with and the way you would like to call & get the answer out of the class\n",
    "\n",
    "class func1(object):\n",
    "    def __init__(self, my_list):\n",
    "        self.my_list = my_list\n",
    "\n",
    "    # returns the answer directly if the function is called, i.e. using ()\n",
    "    def len_function(self):\n",
    "        return len(self.my_list)\n",
    "\n",
    "    # returns the answer directly if property is referenced, i.e. no () needed\n",
    "    @property\n",
    "    def len_property(self):\n",
    "        return len(self.my_list)\n",
    "\n",
    "    # returns a different function entirely when called, which then must be called again to provide the answer inside. \n",
    "    # There's a lot more to closures than I'm displaying here, specifically when variables are passed into the function \n",
    "    # inside the closure, which acts to preserve the function in that state\n",
    "    def len_closure(self):\n",
    "        return self.len_function\n",
    "\n",
    "\n",
    "list1 = [1, 2, 3, 4, 5, 6, 7, 8]\n",
    "f = func1(list1)\n",
    "print(f.len_function())  # one ()\n",
    "print(f.len_property)  # no ()\n",
    "print(f.len_closure()())  # two ()\n",
    "print(\"Same answer, 3 different ways to get it.\")"
   ]
  },
  {
   "cell_type": "code",
   "execution_count": 14,
   "metadata": {},
   "outputs": [
    {
     "name": "stdout",
     "output_type": "stream",
     "text": [
      "REMAINING: 0123456789\n",
      "0\n",
      "REMAINING: 123456789\n",
      "12\n",
      "REMAINING: 3456789\n",
      "345\n",
      "REMAINING: 6789\n",
      "6789\n"
     ]
    }
   ],
   "source": [
    "# I'm not a huge fan of the way Python handles scoping with closures\n",
    "# (although it is definitely in line with needing to be explicit rather than implicit).\n",
    "# The use of `nonlocal` here is what allows you to alter the upper scope's/wrapper function's argument 'dots'\n",
    "def pacman(dots):\n",
    "    def chew(count):\n",
    "        nonlocal dots\n",
    "        print(\"REMAINING:\", dots)\n",
    "        if len(dots) < count:\n",
    "            raise IndexError(f\"\\nAsking for {count} dots, but only {len(dots)} {'is' if len(dots) == 1 else 'are'} left.\")\n",
    "        elif not dots:\n",
    "            return\n",
    "        result = dots[:count]\n",
    "        dots = dots[count:]\n",
    "        return result\n",
    "    return chew\n",
    "\n",
    "\n",
    "consume = pacman(\"0123456789\")\n",
    "print(consume(1))\n",
    "print(consume(2))\n",
    "print(consume(3))\n",
    "print(consume(4))\n",
    "# uncomment line below to see what happens when you bite off more than you can chew...\n",
    "#print(consume(4))"
   ]
  },
  {
   "cell_type": "code",
   "execution_count": 18,
   "metadata": {},
   "outputs": [
    {
     "name": "stdout",
     "output_type": "stream",
     "text": [
      "True\n",
      "False\n"
     ]
    }
   ],
   "source": [
    "###  Temporary Directory ###\n",
    "from os.path import isdir\n",
    "from tempfile import TemporaryDirectory\n",
    "\n",
    "# unnecessary initialization, just to be clear that this variable starts off with an empty string\n",
    "random_folder_name = \"\"\n",
    "\n",
    "with TemporaryDirectory() as tmp_dir:\n",
    "    random_folder_name = tmp_dir\n",
    "    # Inside the context of this with statement, the TemporaryDirectory will act just like a normal Folder/Directory \n",
    "    # and you can do all the same things you normally could with it\n",
    "    print(isdir(random_folder_name))\n",
    "\n",
    "# Outside the with statement and you can see that the TemporaryDirectory has now been removed\n",
    "print(isdir(random_folder_name))\n",
    "\n",
    "# This functionality is perfect for when you want to download some things and have a temporary place to store it \n",
    "# while you work on it and let Python clean up the folder for you afterwards"
   ]
  }
 ],
 "metadata": {
  "kernelspec": {
   "display_name": "Python 3",
   "language": "python",
   "name": "python3"
  },
  "language_info": {
   "codemirror_mode": {
    "name": "ipython",
    "version": 3
   },
   "file_extension": ".py",
   "mimetype": "text/x-python",
   "name": "python",
   "nbconvert_exporter": "python",
   "pygments_lexer": "ipython3",
   "version": "3.7.0"
  }
 },
 "nbformat": 4,
 "nbformat_minor": 4
}
