{
 "cells": [
  {
   "cell_type": "code",
   "execution_count": 1,
   "metadata": {},
   "outputs": [
    {
     "name": "stdout",
     "output_type": "stream",
     "text": [
      "str == Hello World\n",
      "sub == o\n",
      "1.) str.upper() -> HELLO WORLD\n",
      "2.) str.lower() -> hello world\n",
      "3.) str.capitalize() -> Hello world\n",
      "4.) str.center() -> $$$$$$$$$Hello World$$$$$$$$$$\n",
      "5.) sub in str -> True\n",
      "6.) str.count(sub) -> 2\n",
      "7.) str.startswith(sub) -> False\n",
      "8.) str.endswith(sub) -> False\n",
      "9.) str.find(sub) -> 4\n",
      "10.) str[0] -> H\n",
      "11.) str[10] -> d\n",
      "12.) str[6:10] -> Worl\n",
      "13.) str[:10] -> Hello Worl\n",
      "14.) str[6:] -> World\n",
      "15.) str[-1] -> d\n",
      "16.) str[6:-1] -> Worl\n",
      "17.) f\"My program says: {myString}\" -> My program says: Hello World\n"
     ]
    }
   ],
   "source": [
    "###  Basic Working With Strings ###\n",
    "'''\n",
    "for more info GOTO:\n",
    "\n",
    "https://docs.python.org/3/library/stdtypes.html#string-methods\n",
    "'''\n",
    "\n",
    "myString = 'Hello World'\n",
    "sub = 'o'\n",
    "print('str ==', myString)\n",
    "print('sub ==', sub)\n",
    "\n",
    "#  Convert to uppercase\n",
    "print('1.) str.upper() ->', myString.upper())\n",
    "\n",
    "#  Convert to lowercase\n",
    "print('2.) str.lower() ->', myString.lower())\n",
    "\n",
    "#  Convert to sentence case\n",
    "print('3.) str.capitalize() ->', myString.capitalize())\n",
    "\n",
    "#  Center the text within a larger string\n",
    "print('4.) str.center() ->', myString.center(30,'$'))\n",
    "\n",
    "#  Determine if a string contains a substring\n",
    "print('5.) sub in str ->', sub in myString)\n",
    "\n",
    "#  Count the number of instances of a substring within the given string\n",
    "print('6.) str.count(sub) ->', myString.count(sub))\n",
    "\n",
    "#  Determine if a string starts with a given substring (can also provide a tuple of substrings to search through)\n",
    "print('7.) str.startswith(sub) ->', myString.startswith(sub))\n",
    "\n",
    "#  Determine if a string ends with a given substring (can also provide a tuple of substrings to search through)\n",
    "print('8.) str.endswith(sub) ->', myString.endswith(sub))\n",
    "\n",
    "#  Find the first instance of a substring\n",
    "print('9.) str.find(sub) ->', myString.find(sub))\n",
    "\n",
    "#  Slice strings\n",
    "print('10.) str[0] ->', myString[0])\n",
    "print('11.) str[10] ->', myString[10])\n",
    "print('12.) str[6:10] ->', myString[6:10])\n",
    "print('13.) str[:10] ->', myString[:10])\n",
    "print('14.) str[6:] ->', myString[6:])\n",
    "print('15.) str[-1] ->', myString[-1])\n",
    "print('16.) str[6:-1] ->', myString[6:-1])\n",
    "\n",
    "#  F-Strings\n",
    "print('17.) f\"My program says: {myString}\" ->', f\"My program says: {myString}\")"
   ]
  },
  {
   "cell_type": "code",
   "execution_count": 2,
   "metadata": {},
   "outputs": [
    {
     "name": "stdout",
     "output_type": "stream",
     "text": [
      "This line is getting too long.\n",
      "This line is also too long.\n"
     ]
    }
   ],
   "source": [
    "###  Continue String On Next Line ###\n",
    "# Here are 2 ways to continue a string on the next line *without* including the line break in the string\n",
    "# If you know of any other ways I'd be happy to hear them\n",
    "\n",
    "# Way 1\n",
    "# End string on first line then add a backslash \\ outside the quote\n",
    "# Then just continue the string on the next line\n",
    "way_1 = 'This line is getting too ' \\\n",
    "'long.'\n",
    "print(way_1)\n",
    "\n",
    "# Way 2\n",
    "# Put all the lines within ()\n",
    "way_2 = ('This line is also too '\n",
    "'long.')\n",
    "print(way_2)"
   ]
  },
  {
   "cell_type": "code",
   "execution_count": 5,
   "metadata": {},
   "outputs": [
    {
     "name": "stdout",
     "output_type": "stream",
     "text": [
      "\n",
      "Original text ->  Hello, World!\n",
      "Length -> 13\n",
      "Middle Character(s) -> \" \"\n"
     ]
    }
   ],
   "source": [
    "###  Length and Middle Of String ###\n",
    "def length_and_middle(text):\n",
    "    word_length = len(text)\n",
    "    middle = word_length // 2\n",
    "    is_even = word_length % 2 == 0\n",
    "    if is_even:\n",
    "        mid_char = text[middle-1 : middle+1]\n",
    "    else:\n",
    "        mid_char = text[middle : middle+1]\n",
    "    return word_length, mid_char\n",
    "\n",
    "string = \"Hello, World!\"\n",
    "print('\\nOriginal text -> ', string)\n",
    "length, middle = length_and_middle(string)\n",
    "print('Length ->', length)\n",
    "print('Middle Character(s) -> \"{}\"'.format(middle))"
   ]
  },
  {
   "cell_type": "code",
   "execution_count": 7,
   "metadata": {},
   "outputs": [
    {
     "name": "stdout",
     "output_type": "stream",
     "text": [
      "012345678901234567890123456789012345678901234567890123456789012345678901234567890123456789012345678901234567890123456789\n",
      "\n",
      "01234567890123456789\n",
      "01234567890123456789\n",
      "01234567890123456789\n",
      "01234567890123456789\n",
      "01234567890123456789\n",
      "01234567890123456789\n"
     ]
    }
   ],
   "source": [
    "###  Textwrap.Fill Example ###\n",
    "a = '0123456789'*12\n",
    "print(a)\n",
    "\n",
    "print()\n",
    "\n",
    "import textwrap\n",
    "b = textwrap.fill(a, 20)\n",
    "print(b)\n"
   ]
  },
  {
   "cell_type": "code",
   "execution_count": 8,
   "metadata": {},
   "outputs": [
    {
     "name": "stdout",
     "output_type": "stream",
     "text": [
      "ListAsString =  a^b^c\n",
      "StringAsList =  ['a', 'b', 'c']\n",
      "IsSameList =  False\n",
      "HasSameValue =  True\n"
     ]
    }
   ],
   "source": [
    "###  Strings And Lists ###\n",
    "myList = ['a','b','c']\n",
    "myDelimter = '^'\n",
    "\n",
    "ListAsString = myDelimter.join(myList)\n",
    "StringAsList = ListAsString.split(myDelimter)\n",
    "print('ListAsString = ', ListAsString)\n",
    "print('StringAsList = ', StringAsList)\n",
    "\n",
    "IsSameList = StringAsList is myList\n",
    "HasSameValue = StringAsList == myList\n",
    "print ('IsSameList = ',IsSameList)\n",
    "print ('HasSameValue = ', HasSameValue)"
   ]
  },
  {
   "cell_type": "code",
   "execution_count": 6,
   "metadata": {},
   "outputs": [
    {
     "name": "stdout",
     "output_type": "stream",
     "text": [
      "2020-06-23 09:28:32.434175\n",
      "2020-06-23\n",
      "09:28:32.434175\n"
     ]
    }
   ],
   "source": [
    "###  Current Date and Time ###\n",
    "import datetime as dt\n",
    "\n",
    "# Get the current moment as a datetime object\n",
    "current_moment = dt.datetime.now()\n",
    "print(current_moment)\n",
    "\n",
    "# Grab the date out of a datetime object\n",
    "today = dt.datetime.date(current_moment)\n",
    "print(today)\n",
    "\n",
    "# Grab the time out too\n",
    "the_time = dt.datetime.time(current_moment)\n",
    "print(the_time)"
   ]
  },
  {
   "cell_type": "code",
   "execution_count": 9,
   "metadata": {},
   "outputs": [
    {
     "name": "stdout",
     "output_type": "stream",
     "text": [
      "1\n",
      "Even 2\n",
      "3\n",
      "Even 4\n",
      "Five 5\n",
      "Even 6\n",
      "7\n",
      "Even 8\n",
      "9\n",
      "Five 10\n",
      "11\n",
      "Even 12\n",
      "13\n",
      "Even 14\n",
      "Five 15\n",
      "Even 16\n",
      "17\n",
      "Even 18\n",
      "19\n",
      "Five 20\n"
     ]
    }
   ],
   "source": [
    "###  How To Use % (Mod) ###\n",
    "for i in range(1,21):\n",
    "    if not i % 5:\n",
    "        print ('Five', i)\n",
    "    elif not i % 2:\n",
    "        print ('Even', i)\n",
    "    else:\n",
    "        print (i)"
   ]
  },
  {
   "cell_type": "code",
   "execution_count": 10,
   "metadata": {},
   "outputs": [
    {
     "name": "stdout",
     "output_type": "stream",
     "text": [
      "main_dict['A'][1]['a'] == 1001\n",
      "main_dict['A'][1]['b'] == 2002\n",
      "main_dict['A'][1]['c'] == 3003\n",
      "main_dict['A'][2]['a'] == 4004\n",
      "main_dict['A'][2]['b'] == 5005\n",
      "main_dict['A'][2]['c'] == 6006\n",
      "main_dict['B'][1]['a'] == 7007\n",
      "main_dict['B'][1]['b'] == 8008\n",
      "main_dict['B'][1]['c'] == 9009\n"
     ]
    }
   ],
   "source": [
    "###  Dict Of Dicts ###\n",
    "main_dict = \\\n",
    "{'A':\n",
    "     {1:\n",
    "        {'a': 1001,\n",
    "         'b': 2002,\n",
    "         'c': 3003\n",
    "        },\n",
    "      2:\n",
    "        {'a': 4004,\n",
    "         'b': 5005,\n",
    "         'c': 6006\n",
    "        }\n",
    "     },\n",
    " 'B':\n",
    "     {1:\n",
    "        {'a': 7007,\n",
    "         'b': 8008,\n",
    "         'c': 9009\n",
    "        }\n",
    "     }\n",
    "}\n",
    "\n",
    "for upper_case in main_dict:\n",
    "    for number in main_dict[upper_case]:\n",
    "        for lower_case in main_dict[upper_case][number]:\n",
    "            print(\"main_dict['{}'][{}]['{}'] == {}\".format(upper_case,\n",
    "            number,\n",
    "            lower_case,\n",
    "            main_dict[upper_case][number][lower_case]))"
   ]
  },
  {
   "cell_type": "code",
   "execution_count": 11,
   "metadata": {},
   "outputs": [
    {
     "name": "stdout",
     "output_type": "stream",
     "text": [
      "8\n",
      "10\n",
      "12\n"
     ]
    }
   ],
   "source": [
    "###  Functions As 1st Class Objects ###\n",
    "def a(x):\n",
    "    return x + 1\n",
    "def b(y):\n",
    "    return y + 2\n",
    "def c(z):\n",
    "    return z + 3\n",
    "\n",
    "# functions can be stored in any data structure or variable; functions are 1st class objects within python\n",
    "func_list = [a, b, c]\n",
    "arg_list = [7, 8, 9]\n",
    "\n",
    "for i, f in enumerate(func_list):\n",
    "    print(f(arg_list[i]))"
   ]
  },
  {
   "cell_type": "code",
   "execution_count": 2,
   "metadata": {},
   "outputs": [
    {
     "name": "stdout",
     "output_type": "stream",
     "text": [
      "1001\n",
      "DEFAULT\n"
     ]
    }
   ],
   "source": [
    "###  Swith-Case Functionality ###\n",
    "'''\n",
    "Python is missing an explicit SwitchCase statement, but it makes up for it with a combination of dictionaries & the get method.\n",
    "\n",
    "Here is how to structure it so that you don't have tons of elifs\n",
    "'''\n",
    "my_default = 'DEFAULT'\n",
    "TestDict = {\n",
    "            'a':1001,\n",
    "            'b':2002,\n",
    "            'c':3003,\n",
    "            'd':4004,\n",
    "            'e':5005,\n",
    "            'f':6006,\n",
    "            'g':7007,\n",
    "            'h':8008,\n",
    "            'i':9009\n",
    "                     }\n",
    "\n",
    "# this will return from dictionary\n",
    "result = TestDict.get('a', my_default)\n",
    "print(result)\n",
    "\n",
    "# this will return default\n",
    "result = TestDict.get('z', my_default)\n",
    "print(result)"
   ]
  }
 ],
 "metadata": {
  "kernelspec": {
   "display_name": "Python 3",
   "language": "python",
   "name": "python3"
  },
  "language_info": {
   "codemirror_mode": {
    "name": "ipython",
    "version": 3
   },
   "file_extension": ".py",
   "mimetype": "text/x-python",
   "name": "python",
   "nbconvert_exporter": "python",
   "pygments_lexer": "ipython3",
   "version": "3.7.0"
  }
 },
 "nbformat": 4,
 "nbformat_minor": 4
}
