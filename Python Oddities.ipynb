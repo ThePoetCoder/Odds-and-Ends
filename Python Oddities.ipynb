{
 "cells": [
  {
   "cell_type": "code",
   "execution_count": 3,
   "metadata": {},
   "outputs": [
    {
     "name": "stdout",
     "output_type": "stream",
     "text": [
      "[['x', 'y', 'z'], ['x', 'y', 'z']]\n",
      "[['x', 'y', 'z'], ['x', 'y', 'z']]\n",
      "\n",
      "\n",
      "[['a', 'y', 'z'], ['a', 'y', 'z']]\n",
      "[['a', 'y', 'z'], ['x', 'y', 'z']]\n",
      "\n",
      "\n",
      "True\n",
      "False\n"
     ]
    }
   ],
   "source": [
    "###  Python Oddities 1 - List Copies ###\n",
    "# store a list of lists to a variable in two different ways\n",
    "way_1 = [['x','y','z']] * 2\n",
    "way_2 = [['x','y','z'] for i in range(2)]\n",
    "print(way_1)\n",
    "print(way_2)\n",
    "\n",
    "print('\\n')\n",
    "\n",
    "# different behavior from same input\n",
    "way_1[0][0] = 'a'\n",
    "way_2[0][0] = 'a'\n",
    "print(way_1)\n",
    "print(way_2)\n",
    "\n",
    "print('\\n')\n",
    "\n",
    "# evidence of the problem\n",
    "print(way_1[0] is way_1[1])\n",
    "print(way_2[0] is way_2[1])\n",
    "\n",
    "# way_1 gets 2 copies pointing back to the same list, while way_2 creates 2 unique lists"
   ]
  },
  {
   "cell_type": "code",
   "execution_count": 4,
   "metadata": {},
   "outputs": [
    {
     "name": "stdout",
     "output_type": "stream",
     "text": [
      "start a -> [1, 2, 3]\n",
      "start b -> [1, 2, 3]\n",
      "\n",
      "end a -> [1, 2, 3, 4]\n",
      "end b -> [1, 2, 3, 4]\n",
      "\n",
      "start y -> [1, 2, 3]\n",
      "start z -> [1, 2, 3]\n",
      "\n",
      "end y -> [1, 2, 3, 4]\n",
      "end z -> [1, 2, 3]\n"
     ]
    }
   ],
   "source": [
    "###  Python Oddities 2 - Multiple Mutable Refs ###\n",
    "a = b = [1,2,3]\n",
    "print('start a ->', a)\n",
    "print('start b ->', b)\n",
    "print()\n",
    "a.append(4)\n",
    "print('end a ->', a)  # makes sense\n",
    "print('end b ->', b)  # wait, what?\n",
    "# they are both literally referencing the same list and can act upon it in a way seen by both\n",
    "\n",
    "print()\n",
    "# instead, you would have to do it one of the long ways\n",
    "\n",
    "y = [1,2,3]\n",
    "z = y[:]\n",
    "print('start y ->', y)\n",
    "print('start z ->', z)\n",
    "print()\n",
    "y.append(4)\n",
    "print('end y ->', y)  # makes sense\n",
    "print('end z ->', z)  # of course that worked"
   ]
  },
  {
   "cell_type": "code",
   "execution_count": 7,
   "metadata": {},
   "outputs": [
    {
     "name": "stdout",
     "output_type": "stream",
     "text": [
      "10\n"
     ]
    }
   ],
   "source": [
    "###  Python Oddities 3 - Tack On Attributes ###\n",
    "# function that returns itself\n",
    "def func():\n",
    "    return func\n",
    "\n",
    "# call it / instantiate it\n",
    "result = func()\n",
    "\n",
    "# tack on a variable with a \".\" and name that has nothing to do with the function\n",
    "result.could_be_anything = 7\n",
    "result.could_be_anything += 3\n",
    "\n",
    "# it actually works\n",
    "print(result.could_be_anything)"
   ]
  },
  {
   "cell_type": "code",
   "execution_count": 8,
   "metadata": {},
   "outputs": [
    {
     "name": "stdout",
     "output_type": "stream",
     "text": [
      "my_list == ['A', 'B']\n",
      "\n",
      "my_list[0] == A\n",
      "my_list[1] == B\n",
      "my_list[False] == A\n",
      "my_list[True] == B\n"
     ]
    }
   ],
   "source": [
    "###  Python Oddities 4 - Boolean Indexing ###\n",
    "my_list = ['A', 'B']\n",
    "print('my_list ==', my_list)\n",
    "\n",
    "print()\n",
    "\n",
    "print('my_list[0] ==', my_list[0])\n",
    "print('my_list[1] ==', my_list[1])\n",
    "print('my_list[False] ==', my_list[False])\n",
    "print('my_list[True] ==', my_list[True])"
   ]
  },
  {
   "cell_type": "code",
   "execution_count": 9,
   "metadata": {},
   "outputs": [
    {
     "name": "stdout",
     "output_type": "stream",
     "text": [
      "HELLO, WORLD!\n"
     ]
    }
   ],
   "source": [
    "###  Perfectly Valid Python Code  ###\n",
    "def _(__,___):\n",
    "    return chr(len(__*10+___))\n",
    "__  = _  (  '_______'  ,         '__'  )\n",
    "__ += _  (  '______'   ,  '_________'  )\n",
    "__ += _  (  '_______'  ,     '______'  )\n",
    "__ += _  (  '_______'  ,     '______'  )\n",
    "__ += _  (  '_______'  ,  '_________'  )\n",
    "__ += _  (  '____'     ,       '____'  )\n",
    "__ += _  (  '___'      ,         '__'  )\n",
    "__ += _  (  '________' ,    '_______'  )\n",
    "__ += _  (  '_______'  ,  '_________'  )\n",
    "__ += _  (  '________' ,         '__'  )\n",
    "__ += _  (  '_______'  ,     '______'  )\n",
    "__ += _  (  '______'   ,   '________'  )\n",
    "__ += _  (  '___'      ,        '___'  )\n",
    "print(__)"
   ]
  },
  {
   "cell_type": "code",
   "execution_count": 11,
   "metadata": {},
   "outputs": [
    {
     "name": "stdout",
     "output_type": "stream",
     "text": [
      "eval_str -> this_works(\"this\")\n",
      "ret_str -> Wow, this works!\n"
     ]
    }
   ],
   "source": [
    "###  Eval is Magic (but you should never use it in production) ###\n",
    "def this_works(well):\n",
    "    return \"Wow, {} works!\".format(well)\n",
    "\n",
    "word_1 = 'this'\n",
    "word_2 = 'works'\n",
    "\n",
    "eval_str = '{}_{}(\"{}\")'.format(word_1, word_2, word_1)\n",
    "print ('eval_str ->', eval_str)\n",
    "\n",
    "ret_str = eval(eval_str)\n",
    "print('ret_str ->', ret_str)"
   ]
  },
  {
   "cell_type": "code",
   "execution_count": 26,
   "metadata": {},
   "outputs": [
    {
     "name": "stdout",
     "output_type": "stream",
     "text": [
      "`True` is a reserved keyword, but `true` is not\n",
      "What is 2+2?\n",
      "5\n",
      "What is the first letter of the alphabet?\n",
      "z\n"
     ]
    }
   ],
   "source": [
    "###  true vs. True ###\n",
    "print(\"`True` is a reserved keyword, but `true` is not\")\n",
    "true = False\n",
    "\n",
    "# Question 1\n",
    "print('What is 2+2?')\n",
    "if (2+2==4) == true:\n",
    "    print(4)\n",
    "elif (2+2==5) == true:\n",
    "    print(5)\n",
    "\n",
    "# Question 2\n",
    "print('What is the first letter of the alphabet?')\n",
    "alphabet = 'abcdefghijklmnopqrstuvwxyz'\n",
    "if (alphabet[0]=='a') == true:\n",
    "    print('a')\n",
    "elif (alphabet[0]=='z') == true:\n",
    "    print('z')"
   ]
  }
 ],
 "metadata": {
  "kernelspec": {
   "display_name": "Python 3",
   "language": "python",
   "name": "python3"
  },
  "language_info": {
   "codemirror_mode": {
    "name": "ipython",
    "version": 3
   },
   "file_extension": ".py",
   "mimetype": "text/x-python",
   "name": "python",
   "nbconvert_exporter": "python",
   "pygments_lexer": "ipython3",
   "version": "3.7.0"
  }
 },
 "nbformat": 4,
 "nbformat_minor": 4
}
